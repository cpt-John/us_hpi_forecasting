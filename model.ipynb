{
 "cells": [
  {
   "cell_type": "code",
   "execution_count": 234,
   "metadata": {},
   "outputs": [],
   "source": [
    "import pandas as pd\n",
    "import numpy as np\n",
    "import seaborn as sns\n",
    "import matplotlib.pyplot as plt\n"
   ]
  },
  {
   "cell_type": "markdown",
   "metadata": {},
   "source": [
    "    Problem Statement:\n",
    "    `What are all the factors that could influence residential home prices across the United States over the next decade`"
   ]
  },
  {
   "cell_type": "markdown",
   "metadata": {},
   "source": [
    "    The first step of solving the problem is to collect the data. Since there is a time constrain for project completion I have sourced the data from a kaggle data source that fits the problem statement\n"
   ]
  },
  {
   "cell_type": "markdown",
   "metadata": {},
   "source": [
    "    Link for the data : https://www.kaggle.com/datasets/ankitsharma0467/factors-influence-the-home-prices-across-us"
   ]
  },
  {
   "cell_type": "markdown",
   "metadata": {},
   "source": [
    "    In the next few steps is data cleaning of the suppy_data.csv"
   ]
  },
  {
   "cell_type": "code",
   "execution_count": 235,
   "metadata": {},
   "outputs": [
    {
     "data": {
      "text/html": [
       "<div>\n",
       "<style scoped>\n",
       "    .dataframe tbody tr th:only-of-type {\n",
       "        vertical-align: middle;\n",
       "    }\n",
       "\n",
       "    .dataframe tbody tr th {\n",
       "        vertical-align: top;\n",
       "    }\n",
       "\n",
       "    .dataframe thead th {\n",
       "        text-align: right;\n",
       "    }\n",
       "</style>\n",
       "<table border=\"1\" class=\"dataframe\">\n",
       "  <thead>\n",
       "    <tr style=\"text-align: right;\">\n",
       "      <th></th>\n",
       "      <th>Unnamed: 0</th>\n",
       "      <th>Period</th>\n",
       "      <th>Permit_Number</th>\n",
       "      <th>construction</th>\n",
       "      <th>Homes_Sold</th>\n",
       "      <th>Housing_Starts</th>\n",
       "    </tr>\n",
       "  </thead>\n",
       "  <tbody>\n",
       "    <tr>\n",
       "      <th>0</th>\n",
       "      <td>1</td>\n",
       "      <td>01-01-2000</td>\n",
       "      <td>1727</td>\n",
       "      <td>353065</td>\n",
       "      <td>873</td>\n",
       "      <td>1636</td>\n",
       "    </tr>\n",
       "    <tr>\n",
       "      <th>1</th>\n",
       "      <td>2</td>\n",
       "      <td>01-02-2000</td>\n",
       "      <td>1692</td>\n",
       "      <td>351933</td>\n",
       "      <td>856</td>\n",
       "      <td>1737</td>\n",
       "    </tr>\n",
       "    <tr>\n",
       "      <th>2</th>\n",
       "      <td>3</td>\n",
       "      <td>01-03-2000</td>\n",
       "      <td>1651</td>\n",
       "      <td>353452</td>\n",
       "      <td>900</td>\n",
       "      <td>1604</td>\n",
       "    </tr>\n",
       "    <tr>\n",
       "      <th>3</th>\n",
       "      <td>4</td>\n",
       "      <td>01-04-2000</td>\n",
       "      <td>1597</td>\n",
       "      <td>356188</td>\n",
       "      <td>841</td>\n",
       "      <td>1626</td>\n",
       "    </tr>\n",
       "    <tr>\n",
       "      <th>4</th>\n",
       "      <td>5</td>\n",
       "      <td>01-05-2000</td>\n",
       "      <td>1543</td>\n",
       "      <td>349907</td>\n",
       "      <td>857</td>\n",
       "      <td>1575</td>\n",
       "    </tr>\n",
       "  </tbody>\n",
       "</table>\n",
       "</div>"
      ],
      "text/plain": [
       "   Unnamed: 0      Period  Permit_Number  construction  Homes_Sold  \\\n",
       "0           1  01-01-2000           1727        353065         873   \n",
       "1           2  01-02-2000           1692        351933         856   \n",
       "2           3  01-03-2000           1651        353452         900   \n",
       "3           4  01-04-2000           1597        356188         841   \n",
       "4           5  01-05-2000           1543        349907         857   \n",
       "\n",
       "   Housing_Starts  \n",
       "0            1636  \n",
       "1            1737  \n",
       "2            1604  \n",
       "3            1626  \n",
       "4            1575  "
      ]
     },
     "execution_count": 235,
     "metadata": {},
     "output_type": "execute_result"
    }
   ],
   "source": [
    "supply_df = pd.read_csv(\"./data/supply_data.csv\",)\n",
    "supply_df.head()\n"
   ]
  },
  {
   "cell_type": "code",
   "execution_count": 236,
   "metadata": {},
   "outputs": [],
   "source": [
    "supply_df['Period'] = pd.to_datetime(supply_df['Period'], format='%d-%m-%Y')\n"
   ]
  },
  {
   "cell_type": "code",
   "execution_count": 237,
   "metadata": {},
   "outputs": [
    {
     "data": {
      "text/html": [
       "<div>\n",
       "<style scoped>\n",
       "    .dataframe tbody tr th:only-of-type {\n",
       "        vertical-align: middle;\n",
       "    }\n",
       "\n",
       "    .dataframe tbody tr th {\n",
       "        vertical-align: top;\n",
       "    }\n",
       "\n",
       "    .dataframe thead th {\n",
       "        text-align: right;\n",
       "    }\n",
       "</style>\n",
       "<table border=\"1\" class=\"dataframe\">\n",
       "  <thead>\n",
       "    <tr style=\"text-align: right;\">\n",
       "      <th></th>\n",
       "      <th>Permit_Number</th>\n",
       "      <th>construction</th>\n",
       "      <th>Homes_Sold</th>\n",
       "      <th>Housing_Starts</th>\n",
       "    </tr>\n",
       "    <tr>\n",
       "      <th>Period</th>\n",
       "      <th></th>\n",
       "      <th></th>\n",
       "      <th></th>\n",
       "      <th></th>\n",
       "    </tr>\n",
       "  </thead>\n",
       "  <tbody>\n",
       "    <tr>\n",
       "      <th>2000-01-01</th>\n",
       "      <td>1727</td>\n",
       "      <td>353065</td>\n",
       "      <td>873</td>\n",
       "      <td>1636</td>\n",
       "    </tr>\n",
       "    <tr>\n",
       "      <th>2000-02-01</th>\n",
       "      <td>1692</td>\n",
       "      <td>351933</td>\n",
       "      <td>856</td>\n",
       "      <td>1737</td>\n",
       "    </tr>\n",
       "    <tr>\n",
       "      <th>2000-03-01</th>\n",
       "      <td>1651</td>\n",
       "      <td>353452</td>\n",
       "      <td>900</td>\n",
       "      <td>1604</td>\n",
       "    </tr>\n",
       "    <tr>\n",
       "      <th>2000-04-01</th>\n",
       "      <td>1597</td>\n",
       "      <td>356188</td>\n",
       "      <td>841</td>\n",
       "      <td>1626</td>\n",
       "    </tr>\n",
       "    <tr>\n",
       "      <th>2000-05-01</th>\n",
       "      <td>1543</td>\n",
       "      <td>349907</td>\n",
       "      <td>857</td>\n",
       "      <td>1575</td>\n",
       "    </tr>\n",
       "  </tbody>\n",
       "</table>\n",
       "</div>"
      ],
      "text/plain": [
       "            Permit_Number  construction  Homes_Sold  Housing_Starts\n",
       "Period                                                             \n",
       "2000-01-01           1727        353065         873            1636\n",
       "2000-02-01           1692        351933         856            1737\n",
       "2000-03-01           1651        353452         900            1604\n",
       "2000-04-01           1597        356188         841            1626\n",
       "2000-05-01           1543        349907         857            1575"
      ]
     },
     "execution_count": 237,
     "metadata": {},
     "output_type": "execute_result"
    }
   ],
   "source": [
    "supply_df = supply_df.drop(\"Unnamed: 0\", axis=1).set_index(\"Period\")\n",
    "supply_df.head()\n"
   ]
  },
  {
   "cell_type": "code",
   "execution_count": 238,
   "metadata": {},
   "outputs": [
    {
     "name": "stdout",
     "output_type": "stream",
     "text": [
      "<class 'pandas.core.frame.DataFrame'>\n",
      "DatetimeIndex: 250 entries, 2000-01-01 to 2020-10-01\n",
      "Data columns (total 4 columns):\n",
      " #   Column          Non-Null Count  Dtype\n",
      "---  ------          --------------  -----\n",
      " 0   Permit_Number   250 non-null    int64\n",
      " 1   construction    250 non-null    int64\n",
      " 2   Homes_Sold      250 non-null    int64\n",
      " 3   Housing_Starts  250 non-null    int64\n",
      "dtypes: int64(4)\n",
      "memory usage: 9.8 KB\n"
     ]
    }
   ],
   "source": [
    "supply_df.info()\n"
   ]
  },
  {
   "cell_type": "code",
   "execution_count": 239,
   "metadata": {},
   "outputs": [
    {
     "data": {
      "text/html": [
       "<div>\n",
       "<style scoped>\n",
       "    .dataframe tbody tr th:only-of-type {\n",
       "        vertical-align: middle;\n",
       "    }\n",
       "\n",
       "    .dataframe tbody tr th {\n",
       "        vertical-align: top;\n",
       "    }\n",
       "\n",
       "    .dataframe thead th {\n",
       "        text-align: right;\n",
       "    }\n",
       "</style>\n",
       "<table border=\"1\" class=\"dataframe\">\n",
       "  <thead>\n",
       "    <tr style=\"text-align: right;\">\n",
       "      <th></th>\n",
       "      <th>Permit_Number</th>\n",
       "      <th>construction</th>\n",
       "      <th>Homes_Sold</th>\n",
       "      <th>Housing_Starts</th>\n",
       "    </tr>\n",
       "  </thead>\n",
       "  <tbody>\n",
       "    <tr>\n",
       "      <th>count</th>\n",
       "      <td>250.000000</td>\n",
       "      <td>250.000000</td>\n",
       "      <td>250.000000</td>\n",
       "      <td>250.000000</td>\n",
       "    </tr>\n",
       "    <tr>\n",
       "      <th>mean</th>\n",
       "      <td>1317.200000</td>\n",
       "      <td>428859.360000</td>\n",
       "      <td>697.272000</td>\n",
       "      <td>1269.060000</td>\n",
       "    </tr>\n",
       "    <tr>\n",
       "      <th>std</th>\n",
       "      <td>470.104252</td>\n",
       "      <td>122721.914363</td>\n",
       "      <td>300.035978</td>\n",
       "      <td>460.534507</td>\n",
       "    </tr>\n",
       "    <tr>\n",
       "      <th>min</th>\n",
       "      <td>513.000000</td>\n",
       "      <td>236512.000000</td>\n",
       "      <td>270.000000</td>\n",
       "      <td>478.000000</td>\n",
       "    </tr>\n",
       "    <tr>\n",
       "      <th>25%</th>\n",
       "      <td>998.500000</td>\n",
       "      <td>340081.750000</td>\n",
       "      <td>436.500000</td>\n",
       "      <td>926.250000</td>\n",
       "    </tr>\n",
       "    <tr>\n",
       "      <th>50%</th>\n",
       "      <td>1302.000000</td>\n",
       "      <td>415920.000000</td>\n",
       "      <td>624.500000</td>\n",
       "      <td>1218.000000</td>\n",
       "    </tr>\n",
       "    <tr>\n",
       "      <th>75%</th>\n",
       "      <td>1658.250000</td>\n",
       "      <td>537308.750000</td>\n",
       "      <td>940.500000</td>\n",
       "      <td>1625.750000</td>\n",
       "    </tr>\n",
       "    <tr>\n",
       "      <th>max</th>\n",
       "      <td>2263.000000</td>\n",
       "      <td>678562.000000</td>\n",
       "      <td>1389.000000</td>\n",
       "      <td>2273.000000</td>\n",
       "    </tr>\n",
       "  </tbody>\n",
       "</table>\n",
       "</div>"
      ],
      "text/plain": [
       "       Permit_Number   construction   Homes_Sold  Housing_Starts\n",
       "count     250.000000     250.000000   250.000000      250.000000\n",
       "mean     1317.200000  428859.360000   697.272000     1269.060000\n",
       "std       470.104252  122721.914363   300.035978      460.534507\n",
       "min       513.000000  236512.000000   270.000000      478.000000\n",
       "25%       998.500000  340081.750000   436.500000      926.250000\n",
       "50%      1302.000000  415920.000000   624.500000     1218.000000\n",
       "75%      1658.250000  537308.750000   940.500000     1625.750000\n",
       "max      2263.000000  678562.000000  1389.000000     2273.000000"
      ]
     },
     "execution_count": 239,
     "metadata": {},
     "output_type": "execute_result"
    }
   ],
   "source": [
    "supply_df.describe()\n"
   ]
  },
  {
   "cell_type": "markdown",
   "metadata": {},
   "source": [
    "    Checking the corelation between features"
   ]
  },
  {
   "cell_type": "code",
   "execution_count": 240,
   "metadata": {},
   "outputs": [],
   "source": [
    "from sklearn.preprocessing import StandardScaler\n"
   ]
  },
  {
   "cell_type": "code",
   "execution_count": 241,
   "metadata": {},
   "outputs": [
    {
     "data": {
      "text/plain": [
       "<matplotlib.legend.Legend at 0x7f27c00cd6d0>"
      ]
     },
     "execution_count": 241,
     "metadata": {},
     "output_type": "execute_result"
    },
    {
     "data": {
      "image/png": "[encoded data removed]",
      "text/plain": [
       "<Figure size 432x288 with 1 Axes>"
      ]
     },
     "metadata": {
      "needs_background": "light"
     },
     "output_type": "display_data"
    }
   ],
   "source": [
    "scaler = StandardScaler()\n",
    "plot_df = pd.DataFrame(scaler.fit_transform(supply_df))\\\n",
    "    .set_index(pd.Index(supply_df.index))\n",
    "sns.lineplot(data=plot_df,)\n",
    "plt.legend(labels=supply_df.columns.to_list())\n"
   ]
  },
  {
   "cell_type": "code",
   "execution_count": 242,
   "metadata": {},
   "outputs": [
    {
     "data": {
      "text/plain": [
       "<AxesSubplot:>"
      ]
     },
     "execution_count": 242,
     "metadata": {},
     "output_type": "execute_result"
    },
    {
     "data": {
      "image/png": "[encoded data removed]",
      "text/plain": [
       "<Figure size 432x288 with 2 Axes>"
      ]
     },
     "metadata": {
      "needs_background": "light"
     },
     "output_type": "display_data"
    }
   ],
   "source": [
    "sns.heatmap(data=supply_df.corr(), square=True, annot=True)\n"
   ]
  },
  {
   "cell_type": "markdown",
   "metadata": {},
   "source": [
    "    From above plots its understood almost all features are highly correlated hence not much useful for prediction"
   ]
  },
  {
   "cell_type": "markdown",
   "metadata": {},
   "source": [
    "    In the next few steps is data cleaning of the demand_data.csv\n",
    "    This data contains our target variable HPI"
   ]
  },
  {
   "cell_type": "code",
   "execution_count": 243,
   "metadata": {},
   "outputs": [
    {
     "data": {
      "text/html": [
       "<div>\n",
       "<style scoped>\n",
       "    .dataframe tbody tr th:only-of-type {\n",
       "        vertical-align: middle;\n",
       "    }\n",
       "\n",
       "    .dataframe tbody tr th {\n",
       "        vertical-align: top;\n",
       "    }\n",
       "\n",
       "    .dataframe thead th {\n",
       "        text-align: right;\n",
       "    }\n",
       "</style>\n",
       "<table border=\"1\" class=\"dataframe\">\n",
       "  <thead>\n",
       "    <tr style=\"text-align: right;\">\n",
       "      <th></th>\n",
       "      <th>DATE</th>\n",
       "      <th>UNEM_RATE</th>\n",
       "      <th>MORTGAGE</th>\n",
       "      <th>GDPC1</th>\n",
       "      <th>FORECLOSURES</th>\n",
       "      <th>HPI</th>\n",
       "    </tr>\n",
       "  </thead>\n",
       "  <tbody>\n",
       "    <tr>\n",
       "      <th>0</th>\n",
       "      <td>2000-01-01</td>\n",
       "      <td>4.03</td>\n",
       "      <td>8.26</td>\n",
       "      <td>12935.252</td>\n",
       "      <td>1.95</td>\n",
       "      <td>101.34</td>\n",
       "    </tr>\n",
       "    <tr>\n",
       "      <th>1</th>\n",
       "      <td>2000-04-01</td>\n",
       "      <td>3.93</td>\n",
       "      <td>8.32</td>\n",
       "      <td>13170.749</td>\n",
       "      <td>1.97</td>\n",
       "      <td>103.67</td>\n",
       "    </tr>\n",
       "    <tr>\n",
       "      <th>2</th>\n",
       "      <td>2000-07-01</td>\n",
       "      <td>4.00</td>\n",
       "      <td>8.02</td>\n",
       "      <td>13183.890</td>\n",
       "      <td>2.09</td>\n",
       "      <td>105.79</td>\n",
       "    </tr>\n",
       "    <tr>\n",
       "      <th>3</th>\n",
       "      <td>2000-10-01</td>\n",
       "      <td>3.90</td>\n",
       "      <td>7.62</td>\n",
       "      <td>13262.250</td>\n",
       "      <td>2.23</td>\n",
       "      <td>108.27</td>\n",
       "    </tr>\n",
       "    <tr>\n",
       "      <th>4</th>\n",
       "      <td>2001-01-01</td>\n",
       "      <td>4.23</td>\n",
       "      <td>7.01</td>\n",
       "      <td>13219.251</td>\n",
       "      <td>2.34</td>\n",
       "      <td>110.48</td>\n",
       "    </tr>\n",
       "  </tbody>\n",
       "</table>\n",
       "</div>"
      ],
      "text/plain": [
       "         DATE  UNEM_RATE  MORTGAGE      GDPC1  FORECLOSURES     HPI\n",
       "0  2000-01-01       4.03      8.26  12935.252          1.95  101.34\n",
       "1  2000-04-01       3.93      8.32  13170.749          1.97  103.67\n",
       "2  2000-07-01       4.00      8.02  13183.890          2.09  105.79\n",
       "3  2000-10-01       3.90      7.62  13262.250          2.23  108.27\n",
       "4  2001-01-01       4.23      7.01  13219.251          2.34  110.48"
      ]
     },
     "execution_count": 243,
     "metadata": {},
     "output_type": "execute_result"
    }
   ],
   "source": [
    "demand_df = pd.read_csv(\"./data/demand_data.csv\",)\n",
    "demand_df.head()\n"
   ]
  },
  {
   "cell_type": "code",
   "execution_count": 244,
   "metadata": {},
   "outputs": [
    {
     "data": {
      "text/html": [
       "<div>\n",
       "<style scoped>\n",
       "    .dataframe tbody tr th:only-of-type {\n",
       "        vertical-align: middle;\n",
       "    }\n",
       "\n",
       "    .dataframe tbody tr th {\n",
       "        vertical-align: top;\n",
       "    }\n",
       "\n",
       "    .dataframe thead th {\n",
       "        text-align: right;\n",
       "    }\n",
       "</style>\n",
       "<table border=\"1\" class=\"dataframe\">\n",
       "  <thead>\n",
       "    <tr style=\"text-align: right;\">\n",
       "      <th></th>\n",
       "      <th>UNEM_RATE</th>\n",
       "      <th>MORTGAGE</th>\n",
       "      <th>GDPC1</th>\n",
       "      <th>FORECLOSURES</th>\n",
       "      <th>HPI</th>\n",
       "    </tr>\n",
       "    <tr>\n",
       "      <th>DATE</th>\n",
       "      <th></th>\n",
       "      <th></th>\n",
       "      <th></th>\n",
       "      <th></th>\n",
       "      <th></th>\n",
       "    </tr>\n",
       "  </thead>\n",
       "  <tbody>\n",
       "    <tr>\n",
       "      <th>2000-01-01</th>\n",
       "      <td>4.03</td>\n",
       "      <td>8.26</td>\n",
       "      <td>12935.252</td>\n",
       "      <td>1.95</td>\n",
       "      <td>101.34</td>\n",
       "    </tr>\n",
       "    <tr>\n",
       "      <th>2000-04-01</th>\n",
       "      <td>3.93</td>\n",
       "      <td>8.32</td>\n",
       "      <td>13170.749</td>\n",
       "      <td>1.97</td>\n",
       "      <td>103.67</td>\n",
       "    </tr>\n",
       "    <tr>\n",
       "      <th>2000-07-01</th>\n",
       "      <td>4.00</td>\n",
       "      <td>8.02</td>\n",
       "      <td>13183.890</td>\n",
       "      <td>2.09</td>\n",
       "      <td>105.79</td>\n",
       "    </tr>\n",
       "    <tr>\n",
       "      <th>2000-10-01</th>\n",
       "      <td>3.90</td>\n",
       "      <td>7.62</td>\n",
       "      <td>13262.250</td>\n",
       "      <td>2.23</td>\n",
       "      <td>108.27</td>\n",
       "    </tr>\n",
       "    <tr>\n",
       "      <th>2001-01-01</th>\n",
       "      <td>4.23</td>\n",
       "      <td>7.01</td>\n",
       "      <td>13219.251</td>\n",
       "      <td>2.34</td>\n",
       "      <td>110.48</td>\n",
       "    </tr>\n",
       "  </tbody>\n",
       "</table>\n",
       "</div>"
      ],
      "text/plain": [
       "            UNEM_RATE  MORTGAGE      GDPC1  FORECLOSURES     HPI\n",
       "DATE                                                            \n",
       "2000-01-01       4.03      8.26  12935.252          1.95  101.34\n",
       "2000-04-01       3.93      8.32  13170.749          1.97  103.67\n",
       "2000-07-01       4.00      8.02  13183.890          2.09  105.79\n",
       "2000-10-01       3.90      7.62  13262.250          2.23  108.27\n",
       "2001-01-01       4.23      7.01  13219.251          2.34  110.48"
      ]
     },
     "execution_count": 244,
     "metadata": {},
     "output_type": "execute_result"
    }
   ],
   "source": [
    "demand_df['DATE'] = pd.to_datetime(demand_df['DATE'], format='%Y-%m-%d')\n",
    "demand_df = demand_df.set_index(\"DATE\")\n",
    "demand_df.head()\n"
   ]
  },
  {
   "cell_type": "code",
   "execution_count": 245,
   "metadata": {},
   "outputs": [
    {
     "name": "stdout",
     "output_type": "stream",
     "text": [
      "<class 'pandas.core.frame.DataFrame'>\n",
      "DatetimeIndex: 84 entries, 2000-01-01 to 2020-10-01\n",
      "Data columns (total 5 columns):\n",
      " #   Column        Non-Null Count  Dtype  \n",
      "---  ------        --------------  -----  \n",
      " 0   UNEM_RATE     84 non-null     float64\n",
      " 1   MORTGAGE      84 non-null     float64\n",
      " 2   GDPC1         84 non-null     float64\n",
      " 3   FORECLOSURES  84 non-null     float64\n",
      " 4   HPI           84 non-null     float64\n",
      "dtypes: float64(5)\n",
      "memory usage: 3.9 KB\n"
     ]
    }
   ],
   "source": [
    "demand_df.info()\n"
   ]
  },
  {
   "cell_type": "code",
   "execution_count": 246,
   "metadata": {},
   "outputs": [
    {
     "data": {
      "text/html": [
       "<div>\n",
       "<style scoped>\n",
       "    .dataframe tbody tr th:only-of-type {\n",
       "        vertical-align: middle;\n",
       "    }\n",
       "\n",
       "    .dataframe tbody tr th {\n",
       "        vertical-align: top;\n",
       "    }\n",
       "\n",
       "    .dataframe thead th {\n",
       "        text-align: right;\n",
       "    }\n",
       "</style>\n",
       "<table border=\"1\" class=\"dataframe\">\n",
       "  <thead>\n",
       "    <tr style=\"text-align: right;\">\n",
       "      <th></th>\n",
       "      <th>UNEM_RATE</th>\n",
       "      <th>MORTGAGE</th>\n",
       "      <th>GDPC1</th>\n",
       "      <th>FORECLOSURES</th>\n",
       "      <th>HPI</th>\n",
       "    </tr>\n",
       "  </thead>\n",
       "  <tbody>\n",
       "    <tr>\n",
       "      <th>count</th>\n",
       "      <td>84.000000</td>\n",
       "      <td>84.000000</td>\n",
       "      <td>84.000000</td>\n",
       "      <td>84.000000</td>\n",
       "      <td>84.000000</td>\n",
       "    </tr>\n",
       "    <tr>\n",
       "      <th>mean</th>\n",
       "      <td>5.986667</td>\n",
       "      <td>5.092381</td>\n",
       "      <td>15968.048810</td>\n",
       "      <td>4.745119</td>\n",
       "      <td>161.669405</td>\n",
       "    </tr>\n",
       "    <tr>\n",
       "      <th>std</th>\n",
       "      <td>1.976243</td>\n",
       "      <td>1.324841</td>\n",
       "      <td>1762.701831</td>\n",
       "      <td>3.290622</td>\n",
       "      <td>30.778158</td>\n",
       "    </tr>\n",
       "    <tr>\n",
       "      <th>min</th>\n",
       "      <td>3.600000</td>\n",
       "      <td>2.760000</td>\n",
       "      <td>12935.252000</td>\n",
       "      <td>1.410000</td>\n",
       "      <td>101.340000</td>\n",
       "    </tr>\n",
       "    <tr>\n",
       "      <th>25%</th>\n",
       "      <td>4.552500</td>\n",
       "      <td>3.942500</td>\n",
       "      <td>14821.741750</td>\n",
       "      <td>2.097500</td>\n",
       "      <td>140.495000</td>\n",
       "    </tr>\n",
       "    <tr>\n",
       "      <th>50%</th>\n",
       "      <td>5.430000</td>\n",
       "      <td>4.885000</td>\n",
       "      <td>15768.528500</td>\n",
       "      <td>3.160000</td>\n",
       "      <td>162.240000</td>\n",
       "    </tr>\n",
       "    <tr>\n",
       "      <th>75%</th>\n",
       "      <td>7.005000</td>\n",
       "      <td>6.135000</td>\n",
       "      <td>17394.926250</td>\n",
       "      <td>7.517500</td>\n",
       "      <td>182.945000</td>\n",
       "    </tr>\n",
       "    <tr>\n",
       "      <th>max</th>\n",
       "      <td>13.070000</td>\n",
       "      <td>8.320000</td>\n",
       "      <td>19202.310000</td>\n",
       "      <td>11.540000</td>\n",
       "      <td>232.550000</td>\n",
       "    </tr>\n",
       "  </tbody>\n",
       "</table>\n",
       "</div>"
      ],
      "text/plain": [
       "       UNEM_RATE   MORTGAGE         GDPC1  FORECLOSURES         HPI\n",
       "count  84.000000  84.000000     84.000000     84.000000   84.000000\n",
       "mean    5.986667   5.092381  15968.048810      4.745119  161.669405\n",
       "std     1.976243   1.324841   1762.701831      3.290622   30.778158\n",
       "min     3.600000   2.760000  12935.252000      1.410000  101.340000\n",
       "25%     4.552500   3.942500  14821.741750      2.097500  140.495000\n",
       "50%     5.430000   4.885000  15768.528500      3.160000  162.240000\n",
       "75%     7.005000   6.135000  17394.926250      7.517500  182.945000\n",
       "max    13.070000   8.320000  19202.310000     11.540000  232.550000"
      ]
     },
     "execution_count": 246,
     "metadata": {},
     "output_type": "execute_result"
    }
   ],
   "source": [
    "demand_df.describe()\n"
   ]
  },
  {
   "cell_type": "code",
   "execution_count": 247,
   "metadata": {},
   "outputs": [
    {
     "data": {
      "text/plain": [
       "<matplotlib.legend.Legend at 0x7f278caaf790>"
      ]
     },
     "execution_count": 247,
     "metadata": {},
     "output_type": "execute_result"
    },
    {
     "data": {
      "image/png": "[encoded data removed]",
      "text/plain": [
       "<Figure size 432x288 with 1 Axes>"
      ]
     },
     "metadata": {
      "needs_background": "light"
     },
     "output_type": "display_data"
    }
   ],
   "source": [
    "scaler = StandardScaler()\n",
    "plot_df = pd.DataFrame(scaler.fit_transform(demand_df))\\\n",
    "    .set_index(pd.Index(demand_df.index))\n",
    "sns.lineplot(data=plot_df,)\n",
    "plt.legend(labels=demand_df.columns.to_list())\n"
   ]
  },
  {
   "cell_type": "code",
   "execution_count": 248,
   "metadata": {},
   "outputs": [
    {
     "data": {
      "text/plain": [
       "<AxesSubplot:>"
      ]
     },
     "execution_count": 248,
     "metadata": {},
     "output_type": "execute_result"
    },
    {
     "data": {
      "image/png": "[encoded data removed]",
      "text/plain": [
       "<Figure size 432x288 with 2 Axes>"
      ]
     },
     "metadata": {
      "needs_background": "light"
     },
     "output_type": "display_data"
    }
   ],
   "source": [
    "sns.heatmap(data=demand_df.corr(), square=True, annot=True)\n"
   ]
  },
  {
   "cell_type": "markdown",
   "metadata": {},
   "source": [
    "    Unlike the previous data this data is not highly correlated "
   ]
  },
  {
   "cell_type": "markdown",
   "metadata": {},
   "source": [
    "    Next few steps we visualize the relation between the primary supply indicator the houses_sold vs the hpi "
   ]
  },
  {
   "cell_type": "code",
   "execution_count": 249,
   "metadata": {},
   "outputs": [
    {
     "data": {
      "text/plain": [
       "(84, 1)"
      ]
     },
     "execution_count": 249,
     "metadata": {},
     "output_type": "execute_result"
    }
   ],
   "source": [
    "supply_vs_hdi = pd.DataFrame(supply_df['Homes_Sold'].resample('3M',).sum())\\\n",
    "    .set_index(pd.Index(demand_df.index))\n",
    "supply_vs_hdi.shape\n"
   ]
  },
  {
   "cell_type": "code",
   "execution_count": 250,
   "metadata": {},
   "outputs": [
    {
     "data": {
      "text/html": [
       "<div>\n",
       "<style scoped>\n",
       "    .dataframe tbody tr th:only-of-type {\n",
       "        vertical-align: middle;\n",
       "    }\n",
       "\n",
       "    .dataframe tbody tr th {\n",
       "        vertical-align: top;\n",
       "    }\n",
       "\n",
       "    .dataframe thead th {\n",
       "        text-align: right;\n",
       "    }\n",
       "</style>\n",
       "<table border=\"1\" class=\"dataframe\">\n",
       "  <thead>\n",
       "    <tr style=\"text-align: right;\">\n",
       "      <th></th>\n",
       "      <th>Homes_Sold</th>\n",
       "      <th>HPI</th>\n",
       "    </tr>\n",
       "    <tr>\n",
       "      <th>DATE</th>\n",
       "      <th></th>\n",
       "      <th></th>\n",
       "    </tr>\n",
       "  </thead>\n",
       "  <tbody>\n",
       "    <tr>\n",
       "      <th>2000-01-01</th>\n",
       "      <td>873</td>\n",
       "      <td>101.34</td>\n",
       "    </tr>\n",
       "    <tr>\n",
       "      <th>2000-04-01</th>\n",
       "      <td>2597</td>\n",
       "      <td>103.67</td>\n",
       "    </tr>\n",
       "    <tr>\n",
       "      <th>2000-07-01</th>\n",
       "      <td>2537</td>\n",
       "      <td>105.79</td>\n",
       "    </tr>\n",
       "    <tr>\n",
       "      <th>2000-10-01</th>\n",
       "      <td>2693</td>\n",
       "      <td>108.27</td>\n",
       "    </tr>\n",
       "    <tr>\n",
       "      <th>2001-01-01</th>\n",
       "      <td>2799</td>\n",
       "      <td>110.48</td>\n",
       "    </tr>\n",
       "  </tbody>\n",
       "</table>\n",
       "</div>"
      ],
      "text/plain": [
       "            Homes_Sold     HPI\n",
       "DATE                          \n",
       "2000-01-01         873  101.34\n",
       "2000-04-01        2597  103.67\n",
       "2000-07-01        2537  105.79\n",
       "2000-10-01        2693  108.27\n",
       "2001-01-01        2799  110.48"
      ]
     },
     "execution_count": 250,
     "metadata": {},
     "output_type": "execute_result"
    }
   ],
   "source": [
    "supply_vs_hdi = supply_vs_hdi.join(demand_df['HPI'])\n",
    "supply_vs_hdi.head()\n"
   ]
  },
  {
   "cell_type": "code",
   "execution_count": 251,
   "metadata": {},
   "outputs": [
    {
     "data": {
      "text/plain": [
       "<matplotlib.legend.Legend at 0x7f27e02df970>"
      ]
     },
     "execution_count": 251,
     "metadata": {},
     "output_type": "execute_result"
    },
    {
     "data": {
      "image/png": "[encoded data removed]",
      "text/plain": [
       "<Figure size 432x288 with 1 Axes>"
      ]
     },
     "metadata": {
      "needs_background": "light"
     },
     "output_type": "display_data"
    }
   ],
   "source": [
    "scaler = StandardScaler()\n",
    "plot_df = pd.DataFrame(scaler.fit_transform(supply_vs_hdi))\\\n",
    "    .set_index(pd.Index(supply_vs_hdi.index))\n",
    "sns.lineplot(data=plot_df,)\n",
    "plt.legend(labels=supply_vs_hdi.columns.to_list())\n"
   ]
  },
  {
   "cell_type": "markdown",
   "metadata": {},
   "source": [
    "    We have one problem that is the data points are low 250 in supply and 84 in demand data.\n",
    "    The demand data is quarterly and supply is monthly. to avoid low data points of we will split the quarterly data into month wise using mean. once we have resampled we will combine it into one data-frame"
   ]
  },
  {
   "cell_type": "code",
   "execution_count": 252,
   "metadata": {},
   "outputs": [],
   "source": [
    "demand_df = pd.DataFrame(demand_df.resample('1M',).ffill().apply(\n",
    "    lambda x: round(x/3, 2))).set_index(supply_df.index)\n"
   ]
  },
  {
   "cell_type": "code",
   "execution_count": 253,
   "metadata": {},
   "outputs": [
    {
     "name": "stdout",
     "output_type": "stream",
     "text": [
      "<class 'pandas.core.frame.DataFrame'>\n",
      "DatetimeIndex: 250 entries, 2000-01-01 to 2020-10-01\n",
      "Data columns (total 5 columns):\n",
      " #   Column        Non-Null Count  Dtype  \n",
      "---  ------        --------------  -----  \n",
      " 0   UNEM_RATE     250 non-null    float64\n",
      " 1   MORTGAGE      250 non-null    float64\n",
      " 2   GDPC1         250 non-null    float64\n",
      " 3   FORECLOSURES  250 non-null    float64\n",
      " 4   HPI           250 non-null    float64\n",
      "dtypes: float64(5)\n",
      "memory usage: 11.7 KB\n"
     ]
    }
   ],
   "source": [
    "demand_df.info()\n"
   ]
  },
  {
   "cell_type": "code",
   "execution_count": 254,
   "metadata": {},
   "outputs": [
    {
     "data": {
      "text/html": [
       "<div>\n",
       "<style scoped>\n",
       "    .dataframe tbody tr th:only-of-type {\n",
       "        vertical-align: middle;\n",
       "    }\n",
       "\n",
       "    .dataframe tbody tr th {\n",
       "        vertical-align: top;\n",
       "    }\n",
       "\n",
       "    .dataframe thead th {\n",
       "        text-align: right;\n",
       "    }\n",
       "</style>\n",
       "<table border=\"1\" class=\"dataframe\">\n",
       "  <thead>\n",
       "    <tr style=\"text-align: right;\">\n",
       "      <th></th>\n",
       "      <th>Permit_Number</th>\n",
       "      <th>construction</th>\n",
       "      <th>Homes_Sold</th>\n",
       "      <th>Housing_Starts</th>\n",
       "      <th>UNEM_RATE</th>\n",
       "      <th>MORTGAGE</th>\n",
       "      <th>GDPC1</th>\n",
       "      <th>FORECLOSURES</th>\n",
       "      <th>HPI</th>\n",
       "    </tr>\n",
       "    <tr>\n",
       "      <th>Period</th>\n",
       "      <th></th>\n",
       "      <th></th>\n",
       "      <th></th>\n",
       "      <th></th>\n",
       "      <th></th>\n",
       "      <th></th>\n",
       "      <th></th>\n",
       "      <th></th>\n",
       "      <th></th>\n",
       "    </tr>\n",
       "  </thead>\n",
       "  <tbody>\n",
       "    <tr>\n",
       "      <th>2000-01-01</th>\n",
       "      <td>1727</td>\n",
       "      <td>353065</td>\n",
       "      <td>873</td>\n",
       "      <td>1636</td>\n",
       "      <td>1.34</td>\n",
       "      <td>2.75</td>\n",
       "      <td>4311.75</td>\n",
       "      <td>0.65</td>\n",
       "      <td>33.78</td>\n",
       "    </tr>\n",
       "    <tr>\n",
       "      <th>2000-02-01</th>\n",
       "      <td>1692</td>\n",
       "      <td>351933</td>\n",
       "      <td>856</td>\n",
       "      <td>1737</td>\n",
       "      <td>1.34</td>\n",
       "      <td>2.75</td>\n",
       "      <td>4311.75</td>\n",
       "      <td>0.65</td>\n",
       "      <td>33.78</td>\n",
       "    </tr>\n",
       "    <tr>\n",
       "      <th>2000-03-01</th>\n",
       "      <td>1651</td>\n",
       "      <td>353452</td>\n",
       "      <td>900</td>\n",
       "      <td>1604</td>\n",
       "      <td>1.34</td>\n",
       "      <td>2.75</td>\n",
       "      <td>4311.75</td>\n",
       "      <td>0.65</td>\n",
       "      <td>33.78</td>\n",
       "    </tr>\n",
       "    <tr>\n",
       "      <th>2000-04-01</th>\n",
       "      <td>1597</td>\n",
       "      <td>356188</td>\n",
       "      <td>841</td>\n",
       "      <td>1626</td>\n",
       "      <td>1.31</td>\n",
       "      <td>2.77</td>\n",
       "      <td>4390.25</td>\n",
       "      <td>0.66</td>\n",
       "      <td>34.56</td>\n",
       "    </tr>\n",
       "    <tr>\n",
       "      <th>2000-05-01</th>\n",
       "      <td>1543</td>\n",
       "      <td>349907</td>\n",
       "      <td>857</td>\n",
       "      <td>1575</td>\n",
       "      <td>1.31</td>\n",
       "      <td>2.77</td>\n",
       "      <td>4390.25</td>\n",
       "      <td>0.66</td>\n",
       "      <td>34.56</td>\n",
       "    </tr>\n",
       "  </tbody>\n",
       "</table>\n",
       "</div>"
      ],
      "text/plain": [
       "            Permit_Number  construction  Homes_Sold  Housing_Starts  \\\n",
       "Period                                                                \n",
       "2000-01-01           1727        353065         873            1636   \n",
       "2000-02-01           1692        351933         856            1737   \n",
       "2000-03-01           1651        353452         900            1604   \n",
       "2000-04-01           1597        356188         841            1626   \n",
       "2000-05-01           1543        349907         857            1575   \n",
       "\n",
       "            UNEM_RATE  MORTGAGE    GDPC1  FORECLOSURES    HPI  \n",
       "Period                                                         \n",
       "2000-01-01       1.34      2.75  4311.75          0.65  33.78  \n",
       "2000-02-01       1.34      2.75  4311.75          0.65  33.78  \n",
       "2000-03-01       1.34      2.75  4311.75          0.65  33.78  \n",
       "2000-04-01       1.31      2.77  4390.25          0.66  34.56  \n",
       "2000-05-01       1.31      2.77  4390.25          0.66  34.56  "
      ]
     },
     "execution_count": 254,
     "metadata": {},
     "output_type": "execute_result"
    }
   ],
   "source": [
    "combined_df = supply_df.join(demand_df)\n",
    "combined_df.head()\n"
   ]
  },
  {
   "cell_type": "code",
   "execution_count": 255,
   "metadata": {},
   "outputs": [
    {
     "name": "stdout",
     "output_type": "stream",
     "text": [
      "<class 'pandas.core.frame.DataFrame'>\n",
      "DatetimeIndex: 250 entries, 2000-01-01 to 2020-10-01\n",
      "Data columns (total 9 columns):\n",
      " #   Column          Non-Null Count  Dtype  \n",
      "---  ------          --------------  -----  \n",
      " 0   Permit_Number   250 non-null    int64  \n",
      " 1   construction    250 non-null    int64  \n",
      " 2   Homes_Sold      250 non-null    int64  \n",
      " 3   Housing_Starts  250 non-null    int64  \n",
      " 4   UNEM_RATE       250 non-null    float64\n",
      " 5   MORTGAGE        250 non-null    float64\n",
      " 6   GDPC1           250 non-null    float64\n",
      " 7   FORECLOSURES    250 non-null    float64\n",
      " 8   HPI             250 non-null    float64\n",
      "dtypes: float64(5), int64(4)\n",
      "memory usage: 19.5 KB\n"
     ]
    }
   ],
   "source": [
    "combined_df.info()"
   ]
  },
  {
   "cell_type": "markdown",
   "metadata": {},
   "source": [
    "    The problem with having low data on time series is we are not able to use the traditional ML techniques to do our forecasting because we have low data to recognize patterns. But the LSTM forecasting methods will help us overcome this by doing a Vector input of the previous data to make a prediction of the future."
   ]
  },
  {
   "cell_type": "markdown",
   "metadata": {},
   "source": [
    "    Scaling the data"
   ]
  },
  {
   "cell_type": "code",
   "execution_count": 256,
   "metadata": {},
   "outputs": [],
   "source": [
    "scaler_X = StandardScaler()\n",
    "scaler_y = StandardScaler()\n",
    "combined_df_X, combined_df_y = combined_df.drop(\n",
    "    \"HPI\", axis=1), combined_df[[\"HPI\"]]\n",
    "scaled_X, scaled_y = pd.DataFrame(scaler_X.fit_transform(\n",
    "    combined_df_X), columns=combined_df_X.columns), pd.DataFrame(scaler_y.fit_transform(combined_df_y), columns=combined_df_y.columns)\n",
    "combined_df_scaled = scaled_X.join(scaled_y)\n"
   ]
  },
  {
   "cell_type": "code",
   "execution_count": 192,
   "metadata": {},
   "outputs": [
    {
     "data": {
      "text/plain": [
       "<AxesSubplot:>"
      ]
     },
     "execution_count": 192,
     "metadata": {},
     "output_type": "execute_result"
    },
    {
     "data": {
      "image/png": "[encoded data removed]",
      "text/plain": [
       "<Figure size 432x288 with 2 Axes>"
      ]
     },
     "metadata": {
      "needs_background": "light"
     },
     "output_type": "display_data"
    }
   ],
   "source": [
    "sns.heatmap(data=combined_df_scaled.corr(), square=True, annot=True, fmt=\".1f\")"
   ]
  },
  {
   "cell_type": "code",
   "execution_count": 193,
   "metadata": {},
   "outputs": [],
   "source": [
    "def df_to_LSTM_input(df: pd.DataFrame, target=1, window=1, ):\n",
    "    df_ = pd.DataFrame(df.apply(\n",
    "        list, axis=1)).reset_index()\n",
    "    df_ = df_.apply(lambda x: list(df_[0][max(\n",
    "        int(x.name)-window, 0):int(x.name)].values), axis=1)\n",
    "    return df_[window:].to_list(), df[target][window:].to_list()\n"
   ]
  },
  {
   "cell_type": "code",
   "execution_count": 194,
   "metadata": {},
   "outputs": [],
   "source": [
    "from sklearn.model_selection import train_test_split\n",
    "window = 2\n",
    "features = combined_df_scaled.columns.to_list()\n",
    "X, y = df_to_LSTM_input(\n",
    "    combined_df_scaled[features], target='HPI', window=window)\n",
    "X_train, X_test, y_train, y_test = train_test_split(\n",
    "    X, y, test_size=0.30, shuffle=False)\n",
    "X_train, X_valid, y_train, y_valid = train_test_split(\n",
    "    X_train, y_train, test_size=0.30, shuffle=False)"
   ]
  },
  {
   "cell_type": "markdown",
   "metadata": {},
   "source": [
    "    Nh=Ns/(α∗(Ni+No))"
   ]
  },
  {
   "cell_type": "code",
   "execution_count": 195,
   "metadata": {},
   "outputs": [
    {
     "data": {
      "text/plain": [
       "3"
      ]
     },
     "execution_count": 195,
     "metadata": {},
     "output_type": "execute_result"
    }
   ],
   "source": [
    "(len(y_train))//(2*(window*len(features)+1))"
   ]
  },
  {
   "cell_type": "markdown",
   "metadata": {},
   "source": [
    "    Creating a LSTM deep learning model"
   ]
  },
  {
   "cell_type": "code",
   "execution_count": null,
   "metadata": {},
   "outputs": [],
   "source": [
    "from keras.layers import *\n",
    "from keras.models import Sequential\n",
    "from keras.callbacks import EarlyStopping\n",
    "import tensorflow as tf\n",
    "\n",
    "# run for local CUDA memory limiting\n",
    "\n",
    "# config = tf.compat.v1.ConfigProto()\n",
    "# config.gpu_options.allow_growth = True\n",
    "# session = tf.compat.v1.Session(config=config)\n",
    "\n",
    "early_stopping = EarlyStopping(\n",
    "    min_delta=0.0001,  # minimium amount of change to count as an improvement\n",
    "    patience=20,  # how many epochs to wait before stopping\n",
    "    restore_best_weights=True,\n",
    ")\n",
    "\n",
    "model = Sequential()\n",
    "model.add(InputLayer((window, len(features))))\n",
    "model.add(LSTM(32))\n",
    "model.add(Dropout(0.1))\n",
    "model.add(Dense(32, 'relu'))\n",
    "model.add(Dropout(0.2))\n",
    "model.add(Dense(1, 'linear'))\n",
    "\n",
    "model.summary()\n"
   ]
  },
  {
   "cell_type": "code",
   "execution_count": 197,
   "metadata": {},
   "outputs": [],
   "source": [
    "\n",
    "model.compile(loss='mse', optimizer='adam',)"
   ]
  },
  {
   "cell_type": "code",
   "execution_count": 198,
   "metadata": {},
   "outputs": [
    {
     "name": "stdout",
     "output_type": "stream",
     "text": [
      "Epoch 1/300\n",
      "61/61 [==============================] - 2s 9ms/step - loss: 0.5483 - val_loss: 0.0935\n",
      "Epoch 2/300\n",
      "61/61 [==============================] - 0s 4ms/step - loss: 0.1192 - val_loss: 0.1001\n",
      "Epoch 3/300\n",
      "61/61 [==============================] - 0s 4ms/step - loss: 0.0623 - val_loss: 0.0823\n",
      "Epoch 4/300\n",
      "61/61 [==============================] - 0s 4ms/step - loss: 0.0476 - val_loss: 0.0875\n",
      "Epoch 5/300\n",
      "61/61 [==============================] - 0s 4ms/step - loss: 0.0550 - val_loss: 0.0687\n",
      "Epoch 6/300\n",
      "61/61 [==============================] - 0s 4ms/step - loss: 0.0602 - val_loss: 0.0805\n",
      "Epoch 7/300\n",
      "61/61 [==============================] - 0s 4ms/step - loss: 0.0490 - val_loss: 0.0589\n",
      "Epoch 8/300\n",
      "61/61 [==============================] - 0s 4ms/step - loss: 0.0325 - val_loss: 0.0592\n",
      "Epoch 9/300\n",
      "61/61 [==============================] - 0s 4ms/step - loss: 0.0429 - val_loss: 0.0534\n",
      "Epoch 10/300\n",
      "61/61 [==============================] - 0s 4ms/step - loss: 0.0654 - val_loss: 0.0629\n",
      "Epoch 11/300\n",
      "61/61 [==============================] - 0s 4ms/step - loss: 0.0397 - val_loss: 0.0537\n",
      "Epoch 12/300\n",
      "61/61 [==============================] - 0s 4ms/step - loss: 0.0351 - val_loss: 0.0669\n",
      "Epoch 13/300\n",
      "61/61 [==============================] - 0s 4ms/step - loss: 0.0385 - val_loss: 0.0573\n",
      "Epoch 14/300\n",
      "61/61 [==============================] - 0s 4ms/step - loss: 0.0328 - val_loss: 0.0554\n",
      "Epoch 15/300\n",
      "61/61 [==============================] - 0s 4ms/step - loss: 0.0319 - val_loss: 0.0542\n",
      "Epoch 16/300\n",
      "61/61 [==============================] - 0s 4ms/step - loss: 0.0367 - val_loss: 0.0454\n",
      "Epoch 17/300\n",
      "61/61 [==============================] - 0s 4ms/step - loss: 0.0368 - val_loss: 0.0439\n",
      "Epoch 18/300\n",
      "61/61 [==============================] - 0s 4ms/step - loss: 0.0304 - val_loss: 0.0501\n",
      "Epoch 19/300\n",
      "61/61 [==============================] - 0s 4ms/step - loss: 0.0326 - val_loss: 0.0512\n",
      "Epoch 20/300\n",
      "61/61 [==============================] - 0s 4ms/step - loss: 0.0265 - val_loss: 0.0560\n",
      "Epoch 21/300\n",
      "61/61 [==============================] - 0s 4ms/step - loss: 0.0331 - val_loss: 0.0390\n",
      "Epoch 22/300\n",
      "61/61 [==============================] - 0s 4ms/step - loss: 0.0238 - val_loss: 0.0383\n",
      "Epoch 23/300\n",
      "61/61 [==============================] - 0s 4ms/step - loss: 0.0264 - val_loss: 0.0458\n",
      "Epoch 24/300\n",
      "61/61 [==============================] - 0s 4ms/step - loss: 0.0271 - val_loss: 0.0576\n",
      "Epoch 25/300\n",
      "61/61 [==============================] - 0s 4ms/step - loss: 0.0289 - val_loss: 0.0418\n",
      "Epoch 26/300\n",
      "61/61 [==============================] - 0s 4ms/step - loss: 0.0239 - val_loss: 0.0479\n",
      "Epoch 27/300\n",
      "61/61 [==============================] - 0s 4ms/step - loss: 0.0280 - val_loss: 0.0512\n",
      "Epoch 28/300\n",
      "61/61 [==============================] - 0s 4ms/step - loss: 0.0235 - val_loss: 0.0403\n",
      "Epoch 29/300\n",
      "61/61 [==============================] - 0s 4ms/step - loss: 0.0256 - val_loss: 0.0434\n",
      "Epoch 30/300\n",
      "61/61 [==============================] - 0s 4ms/step - loss: 0.0315 - val_loss: 0.0301\n",
      "Epoch 31/300\n",
      "61/61 [==============================] - 0s 4ms/step - loss: 0.0273 - val_loss: 0.0336\n",
      "Epoch 32/300\n",
      "61/61 [==============================] - 0s 4ms/step - loss: 0.0205 - val_loss: 0.0369\n",
      "Epoch 33/300\n",
      "61/61 [==============================] - 0s 4ms/step - loss: 0.0253 - val_loss: 0.0308\n",
      "Epoch 34/300\n",
      "61/61 [==============================] - 0s 4ms/step - loss: 0.0244 - val_loss: 0.0443\n",
      "Epoch 35/300\n",
      "61/61 [==============================] - 0s 4ms/step - loss: 0.0273 - val_loss: 0.0297\n",
      "Epoch 36/300\n",
      "61/61 [==============================] - 0s 4ms/step - loss: 0.0243 - val_loss: 0.0363\n",
      "Epoch 37/300\n",
      "61/61 [==============================] - 0s 4ms/step - loss: 0.0302 - val_loss: 0.0293\n",
      "Epoch 38/300\n",
      "61/61 [==============================] - 0s 3ms/step - loss: 0.0243 - val_loss: 0.0329\n",
      "Epoch 39/300\n",
      "61/61 [==============================] - 0s 4ms/step - loss: 0.0190 - val_loss: 0.0422\n",
      "Epoch 40/300\n",
      "61/61 [==============================] - 0s 4ms/step - loss: 0.0245 - val_loss: 0.0277\n",
      "Epoch 41/300\n",
      "61/61 [==============================] - 0s 3ms/step - loss: 0.0343 - val_loss: 0.0423\n",
      "Epoch 42/300\n",
      "61/61 [==============================] - 0s 4ms/step - loss: 0.0284 - val_loss: 0.0405\n",
      "Epoch 43/300\n",
      "61/61 [==============================] - 0s 3ms/step - loss: 0.0227 - val_loss: 0.0257\n",
      "Epoch 44/300\n",
      "61/61 [==============================] - 0s 4ms/step - loss: 0.0259 - val_loss: 0.0392\n",
      "Epoch 45/300\n",
      "61/61 [==============================] - 0s 4ms/step - loss: 0.0351 - val_loss: 0.0279\n",
      "Epoch 46/300\n",
      "61/61 [==============================] - 0s 4ms/step - loss: 0.0277 - val_loss: 0.0343\n",
      "Epoch 47/300\n",
      "61/61 [==============================] - 0s 4ms/step - loss: 0.0341 - val_loss: 0.0307\n",
      "Epoch 48/300\n",
      "61/61 [==============================] - 0s 4ms/step - loss: 0.0214 - val_loss: 0.0294\n",
      "Epoch 49/300\n",
      "61/61 [==============================] - 0s 4ms/step - loss: 0.0338 - val_loss: 0.0399\n",
      "Epoch 50/300\n",
      "61/61 [==============================] - 0s 4ms/step - loss: 0.0228 - val_loss: 0.0255\n",
      "Epoch 51/300\n",
      "61/61 [==============================] - 0s 4ms/step - loss: 0.0239 - val_loss: 0.0248\n",
      "Epoch 52/300\n",
      "61/61 [==============================] - 0s 4ms/step - loss: 0.0148 - val_loss: 0.0371\n",
      "Epoch 53/300\n",
      "61/61 [==============================] - 0s 4ms/step - loss: 0.0308 - val_loss: 0.0236\n",
      "Epoch 54/300\n",
      "61/61 [==============================] - 0s 5ms/step - loss: 0.0360 - val_loss: 0.0219\n",
      "Epoch 55/300\n",
      "61/61 [==============================] - 0s 5ms/step - loss: 0.0223 - val_loss: 0.0277\n",
      "Epoch 56/300\n",
      "61/61 [==============================] - 0s 3ms/step - loss: 0.0212 - val_loss: 0.0375\n",
      "Epoch 57/300\n",
      "61/61 [==============================] - 0s 3ms/step - loss: 0.0227 - val_loss: 0.0248\n",
      "Epoch 58/300\n",
      "61/61 [==============================] - 0s 3ms/step - loss: 0.0257 - val_loss: 0.0280\n",
      "Epoch 59/300\n",
      "61/61 [==============================] - 0s 3ms/step - loss: 0.0241 - val_loss: 0.0202\n",
      "Epoch 60/300\n",
      "61/61 [==============================] - 0s 3ms/step - loss: 0.0257 - val_loss: 0.0366\n",
      "Epoch 61/300\n",
      "61/61 [==============================] - 0s 3ms/step - loss: 0.0249 - val_loss: 0.0272\n",
      "Epoch 62/300\n",
      "61/61 [==============================] - 0s 3ms/step - loss: 0.0205 - val_loss: 0.0287\n",
      "Epoch 63/300\n",
      "61/61 [==============================] - 0s 3ms/step - loss: 0.0269 - val_loss: 0.0347\n",
      "Epoch 64/300\n",
      "61/61 [==============================] - 0s 3ms/step - loss: 0.0153 - val_loss: 0.0378\n",
      "Epoch 65/300\n",
      "61/61 [==============================] - 0s 3ms/step - loss: 0.0249 - val_loss: 0.0318\n",
      "Epoch 66/300\n",
      "61/61 [==============================] - 0s 3ms/step - loss: 0.0357 - val_loss: 0.0332\n",
      "Epoch 67/300\n",
      "61/61 [==============================] - 0s 3ms/step - loss: 0.0245 - val_loss: 0.0272\n",
      "Epoch 68/300\n",
      "61/61 [==============================] - 0s 3ms/step - loss: 0.0256 - val_loss: 0.0195\n",
      "Epoch 69/300\n",
      "61/61 [==============================] - 0s 3ms/step - loss: 0.0206 - val_loss: 0.0285\n",
      "Epoch 70/300\n",
      "61/61 [==============================] - 0s 3ms/step - loss: 0.0292 - val_loss: 0.0254\n",
      "Epoch 71/300\n",
      "61/61 [==============================] - 0s 3ms/step - loss: 0.0240 - val_loss: 0.0315\n",
      "Epoch 72/300\n",
      "61/61 [==============================] - 0s 3ms/step - loss: 0.0227 - val_loss: 0.0302\n",
      "Epoch 73/300\n",
      "61/61 [==============================] - 0s 3ms/step - loss: 0.0209 - val_loss: 0.0283\n",
      "Epoch 74/300\n",
      "61/61 [==============================] - 0s 3ms/step - loss: 0.0327 - val_loss: 0.0223\n",
      "Epoch 75/300\n",
      "61/61 [==============================] - 0s 3ms/step - loss: 0.0331 - val_loss: 0.0283\n",
      "Epoch 76/300\n",
      "61/61 [==============================] - 0s 3ms/step - loss: 0.0187 - val_loss: 0.0174\n",
      "Epoch 77/300\n",
      "61/61 [==============================] - 0s 3ms/step - loss: 0.0214 - val_loss: 0.0224\n",
      "Epoch 78/300\n",
      "61/61 [==============================] - 0s 3ms/step - loss: 0.0238 - val_loss: 0.0251\n",
      "Epoch 79/300\n",
      "61/61 [==============================] - 0s 3ms/step - loss: 0.0180 - val_loss: 0.0253\n",
      "Epoch 80/300\n",
      "61/61 [==============================] - 0s 3ms/step - loss: 0.0225 - val_loss: 0.0306\n",
      "Epoch 81/300\n",
      "61/61 [==============================] - 0s 3ms/step - loss: 0.0254 - val_loss: 0.0200\n",
      "Epoch 82/300\n",
      "61/61 [==============================] - 0s 3ms/step - loss: 0.0263 - val_loss: 0.0202\n",
      "Epoch 83/300\n",
      "61/61 [==============================] - 0s 3ms/step - loss: 0.0193 - val_loss: 0.0270\n",
      "Epoch 84/300\n",
      "61/61 [==============================] - 0s 4ms/step - loss: 0.0189 - val_loss: 0.0254\n",
      "Epoch 85/300\n",
      "61/61 [==============================] - 0s 3ms/step - loss: 0.0225 - val_loss: 0.0208\n",
      "Epoch 86/300\n",
      "61/61 [==============================] - 0s 3ms/step - loss: 0.0260 - val_loss: 0.0239\n",
      "Epoch 87/300\n",
      "61/61 [==============================] - 0s 3ms/step - loss: 0.0268 - val_loss: 0.0194\n",
      "Epoch 88/300\n",
      "61/61 [==============================] - 0s 3ms/step - loss: 0.0225 - val_loss: 0.0247\n",
      "Epoch 89/300\n",
      "61/61 [==============================] - 0s 3ms/step - loss: 0.0202 - val_loss: 0.0224\n",
      "Epoch 90/300\n",
      "61/61 [==============================] - 0s 3ms/step - loss: 0.0204 - val_loss: 0.0236\n",
      "Epoch 91/300\n",
      "61/61 [==============================] - 0s 3ms/step - loss: 0.0310 - val_loss: 0.0302\n",
      "Epoch 92/300\n",
      "61/61 [==============================] - 0s 3ms/step - loss: 0.0252 - val_loss: 0.0257\n",
      "Epoch 93/300\n",
      "61/61 [==============================] - 0s 3ms/step - loss: 0.0163 - val_loss: 0.0275\n",
      "Epoch 94/300\n",
      "61/61 [==============================] - 0s 3ms/step - loss: 0.0245 - val_loss: 0.0249\n",
      "Epoch 95/300\n",
      "61/61 [==============================] - 0s 3ms/step - loss: 0.0232 - val_loss: 0.0271\n",
      "Epoch 96/300\n",
      "61/61 [==============================] - 0s 3ms/step - loss: 0.0190 - val_loss: 0.0283\n"
     ]
    }
   ],
   "source": [
    "history = model.fit(X_train, y_train, validation_data=(\n",
    "    X_valid, y_valid), epochs=300, batch_size=2, callbacks=[early_stopping])\n"
   ]
  },
  {
   "cell_type": "code",
   "execution_count": 199,
   "metadata": {},
   "outputs": [
    {
     "name": "stdout",
     "output_type": "stream",
     "text": [
      "Minimum validation loss: 0.017369089648127556\n"
     ]
    },
    {
     "data": {
      "image/png": "[encoded data removed]",
      "text/plain": [
       "<Figure size 432x288 with 1 Axes>"
      ]
     },
     "metadata": {
      "needs_background": "light"
     },
     "output_type": "display_data"
    }
   ],
   "source": [
    "history_df = pd.DataFrame(history.history)\n",
    "history_df.loc[:, ['loss', 'val_loss']].plot()\n",
    "print(\"Minimum validation loss: {}\".format(history_df['val_loss'].min()))\n"
   ]
  },
  {
   "cell_type": "code",
   "execution_count": 200,
   "metadata": {},
   "outputs": [
    {
     "data": {
      "text/plain": [
       "<AxesSubplot:>"
      ]
     },
     "execution_count": 200,
     "metadata": {},
     "output_type": "execute_result"
    },
    {
     "data": {
      "image/png": "[encoded data removed]",
      "text/plain": [
       "<Figure size 432x288 with 1 Axes>"
      ]
     },
     "metadata": {
      "needs_background": "light"
     },
     "output_type": "display_data"
    }
   ],
   "source": [
    "train_predictions = model.predict(X_train).flatten()\n",
    "sns.lineplot(data=train_predictions, label='predicted')\n",
    "sns.lineplot(data=y_train, label='real')"
   ]
  },
  {
   "cell_type": "code",
   "execution_count": 201,
   "metadata": {},
   "outputs": [
    {
     "data": {
      "text/plain": [
       "<AxesSubplot:>"
      ]
     },
     "execution_count": 201,
     "metadata": {},
     "output_type": "execute_result"
    },
    {
     "data": {
      "image/png": "[encoded data removed]",
      "text/plain": [
       "<Figure size 432x288 with 1 Axes>"
      ]
     },
     "metadata": {
      "needs_background": "light"
     },
     "output_type": "display_data"
    }
   ],
   "source": [
    "valid_predictions = model.predict(X_valid).flatten()\n",
    "sns.lineplot(data=valid_predictions, label='predicted')\n",
    "sns.lineplot(data=y_valid, label='real')"
   ]
  },
  {
   "cell_type": "code",
   "execution_count": 212,
   "metadata": {},
   "outputs": [
    {
     "data": {
      "text/plain": [
       "<AxesSubplot:>"
      ]
     },
     "execution_count": 212,
     "metadata": {},
     "output_type": "execute_result"
    },
    {
     "data": {
      "image/png": "[encoded data removed]",
      "text/plain": [
       "<Figure size 432x288 with 1 Axes>"
      ]
     },
     "metadata": {
      "needs_background": "light"
     },
     "output_type": "display_data"
    }
   ],
   "source": [
    "test_predictions = model.predict(X_test).flatten()\n",
    "test_predictions = scaler_y.inverse_transform(\n",
    "    pd.DataFrame(test_predictions)).flatten()\n",
    "test_y = scaler_y.inverse_transform(pd.DataFrame(y_test)).flatten()\n",
    "sns.lineplot(data=test_predictions, label='predicted')\n",
    "sns.lineplot(data=test_y, label='real')\n"
   ]
  },
  {
   "cell_type": "markdown",
   "metadata": {},
   "source": [
    "    Although the LSTM model has given good results with low data. There is one problem . Deep learning models are considered black-box models . Hens we have to use a Gradient tape method to identify the influence of features on the HPI"
   ]
  },
  {
   "cell_type": "code",
   "execution_count": 203,
   "metadata": {},
   "outputs": [],
   "source": [
    "def gradient_importance(seq, model):\n",
    "    seq = tf.Variable(seq[np.newaxis,:,:], dtype=tf.float32)\n",
    "    with tf.GradientTape() as tape:\n",
    "        predictions = model(seq)\n",
    "    grads = tape.gradient(predictions, seq)\n",
    "    grads = tf.reduce_mean(grads, axis=1).numpy()[0]\n",
    "    \n",
    "    return grads"
   ]
  },
  {
   "cell_type": "code",
   "execution_count": 204,
   "metadata": {},
   "outputs": [],
   "source": [
    "importance = [gradient_importance(np.array(seq), model) for seq in X_test]\n",
    "importance_df = pd.DataFrame(importance, columns = combined_df.columns).mean().mul(100)"
   ]
  },
  {
   "cell_type": "code",
   "execution_count": 205,
   "metadata": {},
   "outputs": [
    {
     "data": {
      "text/plain": [
       "<AxesSubplot:>"
      ]
     },
     "execution_count": 205,
     "metadata": {},
     "output_type": "execute_result"
    },
    {
     "data": {
      "image/png": "[encoded data removed]",
      "text/plain": [
       "<Figure size 432x288 with 1 Axes>"
      ]
     },
     "metadata": {
      "needs_background": "light"
     },
     "output_type": "display_data"
    }
   ],
   "source": [
    "importance_df.plot(kind='bar')"
   ]
  },
  {
   "cell_type": "code",
   "execution_count": 206,
   "metadata": {},
   "outputs": [
    {
     "data": {
      "text/plain": [
       "<AxesSubplot:ylabel='None'>"
      ]
     },
     "execution_count": 206,
     "metadata": {},
     "output_type": "execute_result"
    },
    {
     "data": {
      "image/png": "[encoded data removed]",
      "text/plain": [
       "<Figure size 432x288 with 1 Axes>"
      ]
     },
     "metadata": {},
     "output_type": "display_data"
    }
   ],
   "source": [
    "importance_df.abs().plot(kind='pie')\n"
   ]
  },
  {
   "cell_type": "markdown",
   "metadata": {},
   "source": [
    "    From the above plots we can understand that the 3 most important features influencing the future HPI are:\n",
    "    -   Current HPI\n",
    "    -   Unemployment Rate\n",
    "    -   Construction Spending"
   ]
  },
  {
   "cell_type": "markdown",
   "metadata": {},
   "source": [
    "    The correlation of these features can be got from the correlation matrix . By combining the two we can get a better understanding"
   ]
  },
  {
   "cell_type": "code",
   "execution_count": 286,
   "metadata": {},
   "outputs": [
    {
     "data": {
      "text/plain": [
       "(array([0, 1, 2, 3, 4, 5, 6, 7, 8]),\n",
       " [Text(0, 0, 'Permit_Number'),\n",
       "  Text(1, 0, 'construction'),\n",
       "  Text(2, 0, 'Homes_Sold'),\n",
       "  Text(3, 0, 'Housing_Starts'),\n",
       "  Text(4, 0, 'UNEM_RATE'),\n",
       "  Text(5, 0, 'MORTGAGE'),\n",
       "  Text(6, 0, 'GDPC1'),\n",
       "  Text(7, 0, 'FORECLOSURES'),\n",
       "  Text(8, 0, 'HPI')])"
      ]
     },
     "execution_count": 286,
     "metadata": {},
     "output_type": "execute_result"
    },
    {
     "data": {
      "image/png": "[encoded data removed]",
      "text/plain": [
       "<Figure size 432x288 with 1 Axes>"
      ]
     },
     "metadata": {
      "needs_background": "light"
     },
     "output_type": "display_data"
    }
   ],
   "source": [
    "sign_ = combined_df_scaled.corr()['HPI'] > 0\n",
    "sign_ = sign_.map({True:'positive',False:'negative'})\n",
    "sns.barplot(x=importance_df.index, y=importance_df.abs().values,\n",
    "            hue=sign_.values, palette=[\"green\", \"red\"])\n",
    "plt.xticks(rotation=90)"
   ]
  },
  {
   "cell_type": "markdown",
   "metadata": {},
   "source": [
    "    The next few blocks we serialize the model and useful variables to use in our web app"
   ]
  },
  {
   "cell_type": "code",
   "execution_count": 207,
   "metadata": {},
   "outputs": [],
   "source": [
    "serialized_fpath = './serialized'"
   ]
  },
  {
   "cell_type": "code",
   "execution_count": null,
   "metadata": {},
   "outputs": [],
   "source": [
    "model.save(f'{serialized_fpath}/keras.model')"
   ]
  },
  {
   "cell_type": "code",
   "execution_count": null,
   "metadata": {},
   "outputs": [],
   "source": [
    "from joblib import dump\n",
    "dump([scaler_X, scaler_y ], f'{serialized_fpath}/scaler.joblib')"
   ]
  },
  {
   "cell_type": "code",
   "execution_count": 210,
   "metadata": {},
   "outputs": [
    {
     "data": {
      "text/html": [
       "<div>\n",
       "<style scoped>\n",
       "    .dataframe tbody tr th:only-of-type {\n",
       "        vertical-align: middle;\n",
       "    }\n",
       "\n",
       "    .dataframe tbody tr th {\n",
       "        vertical-align: top;\n",
       "    }\n",
       "\n",
       "    .dataframe thead th {\n",
       "        text-align: right;\n",
       "    }\n",
       "</style>\n",
       "<table border=\"1\" class=\"dataframe\">\n",
       "  <thead>\n",
       "    <tr style=\"text-align: right;\">\n",
       "      <th></th>\n",
       "      <th>Permit_Number</th>\n",
       "      <th>construction</th>\n",
       "      <th>Homes_Sold</th>\n",
       "      <th>Housing_Starts</th>\n",
       "      <th>UNEM_RATE</th>\n",
       "      <th>MORTGAGE</th>\n",
       "      <th>GDPC1</th>\n",
       "      <th>FORECLOSURES</th>\n",
       "      <th>HPI</th>\n",
       "    </tr>\n",
       "  </thead>\n",
       "  <tbody>\n",
       "    <tr>\n",
       "      <th>mean</th>\n",
       "      <td>1317</td>\n",
       "      <td>428859</td>\n",
       "      <td>697</td>\n",
       "      <td>1269</td>\n",
       "      <td>1.99</td>\n",
       "      <td>1.7</td>\n",
       "      <td>5315.22</td>\n",
       "      <td>1.59</td>\n",
       "      <td>53.7</td>\n",
       "    </tr>\n",
       "    <tr>\n",
       "      <th>min</th>\n",
       "      <td>513</td>\n",
       "      <td>236512</td>\n",
       "      <td>270</td>\n",
       "      <td>478</td>\n",
       "      <td>1.2</td>\n",
       "      <td>0.92</td>\n",
       "      <td>4311.75</td>\n",
       "      <td>0.47</td>\n",
       "      <td>33.78</td>\n",
       "    </tr>\n",
       "    <tr>\n",
       "      <th>max</th>\n",
       "      <td>2263</td>\n",
       "      <td>678562</td>\n",
       "      <td>1389</td>\n",
       "      <td>2273</td>\n",
       "      <td>4.36</td>\n",
       "      <td>2.77</td>\n",
       "      <td>6400.77</td>\n",
       "      <td>3.85</td>\n",
       "      <td>77.52</td>\n",
       "    </tr>\n",
       "    <tr>\n",
       "      <th>step</th>\n",
       "      <td>65</td>\n",
       "      <td>21442</td>\n",
       "      <td>34</td>\n",
       "      <td>63</td>\n",
       "      <td>0.1</td>\n",
       "      <td>0.09</td>\n",
       "      <td>265.76</td>\n",
       "      <td>0.08</td>\n",
       "      <td>2.69</td>\n",
       "    </tr>\n",
       "    <tr>\n",
       "      <th>name</th>\n",
       "      <td>Permits</td>\n",
       "      <td>Construction Spending</td>\n",
       "      <td>Houses Sold</td>\n",
       "      <td>Housing Projects</td>\n",
       "      <td>Unemployment %</td>\n",
       "      <td>Mortgage %</td>\n",
       "      <td>GDP %</td>\n",
       "      <td>Foreclosures %</td>\n",
       "      <td>House price Index</td>\n",
       "    </tr>\n",
       "  </tbody>\n",
       "</table>\n",
       "</div>"
      ],
      "text/plain": [
       "     Permit_Number           construction   Homes_Sold    Housing_Starts  \\\n",
       "mean          1317                 428859          697              1269   \n",
       "min            513                 236512          270               478   \n",
       "max           2263                 678562         1389              2273   \n",
       "step            65                  21442           34                63   \n",
       "name       Permits  Construction Spending  Houses Sold  Housing Projects   \n",
       "\n",
       "           UNEM_RATE    MORTGAGE    GDPC1    FORECLOSURES                HPI  \n",
       "mean            1.99         1.7  5315.22            1.59               53.7  \n",
       "min              1.2        0.92  4311.75            0.47              33.78  \n",
       "max             4.36        2.77  6400.77            3.85              77.52  \n",
       "step             0.1        0.09   265.76            0.08               2.69  \n",
       "name  Unemployment %  Mortgage %    GDP %  Foreclosures %  House price Index  "
      ]
     },
     "execution_count": 210,
     "metadata": {},
     "output_type": "execute_result"
    }
   ],
   "source": [
    "features_info_df = combined_df.describe().drop(\n",
    "    ['count', 'std', '25%', '50%', '75%'])\n",
    "features_info_df.loc['step'] = features_info_df.loc['mean']*0.05\n",
    "features_info_df = features_info_df.astype(combined_df.dtypes).round(2)\n",
    "features_info_df.loc['name'] = \\\n",
    "    [\"Permits\", \"Construction Spending\", \"Houses Sold\", \"Housing Projects\",\n",
    "        \"Unemployment %\", \"Mortgage %\", \"GDP %\", \"Foreclosures %\", \"House price Index\"]\n",
    "features_info_df"
   ]
  },
  {
   "cell_type": "code",
   "execution_count": null,
   "metadata": {},
   "outputs": [],
   "source": [
    "dump(features_info_df.to_dict(),f'{serialized_fpath}/features_info.joblib')"
   ]
  }
 ],
 "metadata": {
  "kernelspec": {
   "display_name": "Python 3.8.10 64-bit",
   "language": "python",
   "name": "python3"
  },
  "language_info": {
   "codemirror_mode": {
    "name": "ipython",
    "version": 3
   },
   "file_extension": ".py",
   "mimetype": "text/x-python",
   "name": "python",
   "nbconvert_exporter": "python",
   "pygments_lexer": "ipython3",
   "version": "3.8.10"
  },
  "orig_nbformat": 4,
  "vscode": {
   "interpreter": {
    "hash": "916dbcbb3f70747c44a77c7bcd40155683ae19c65e1c03b4aa3499c5328201f1"
   }
  }
 },
 "nbformat": 4,
 "nbformat_minor": 2
}
